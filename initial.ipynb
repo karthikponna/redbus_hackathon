{
 "cells": [
  {
   "cell_type": "code",
   "execution_count": 1,
   "id": "1229bc5c",
   "metadata": {},
   "outputs": [],
   "source": [
    "import pandas as pd\n",
    "import numpy as np"
   ]
  },
  {
   "cell_type": "code",
   "execution_count": 17,
   "id": "18288ff5",
   "metadata": {},
   "outputs": [],
   "source": [
    "df_train = pd.read_csv(\"training_data/train/train.csv\")\n",
    "df_transactions = pd.read_csv(\"training_data/train/transactions.csv\")\n",
    "df_test = pd.read_csv(\"testing data/test_8gqdJqH.csv\")\n",
    "df_submission = pd.read_csv(\"submission/sample_submission_TQv3O0x.csv\")"
   ]
  },
  {
   "cell_type": "code",
   "execution_count": 6,
   "id": "46737b2a",
   "metadata": {},
   "outputs": [
    {
     "data": {
      "text/html": [
       "<div>\n",
       "<style scoped>\n",
       "    .dataframe tbody tr th:only-of-type {\n",
       "        vertical-align: middle;\n",
       "    }\n",
       "\n",
       "    .dataframe tbody tr th {\n",
       "        vertical-align: top;\n",
       "    }\n",
       "\n",
       "    .dataframe thead th {\n",
       "        text-align: right;\n",
       "    }\n",
       "</style>\n",
       "<table border=\"1\" class=\"dataframe\">\n",
       "  <thead>\n",
       "    <tr style=\"text-align: right;\">\n",
       "      <th></th>\n",
       "      <th>doj</th>\n",
       "      <th>srcid</th>\n",
       "      <th>destid</th>\n",
       "      <th>final_seatcount</th>\n",
       "    </tr>\n",
       "  </thead>\n",
       "  <tbody>\n",
       "    <tr>\n",
       "      <th>0</th>\n",
       "      <td>2023-03-01</td>\n",
       "      <td>45</td>\n",
       "      <td>46</td>\n",
       "      <td>2838.0</td>\n",
       "    </tr>\n",
       "    <tr>\n",
       "      <th>1</th>\n",
       "      <td>2023-03-01</td>\n",
       "      <td>46</td>\n",
       "      <td>45</td>\n",
       "      <td>2298.0</td>\n",
       "    </tr>\n",
       "    <tr>\n",
       "      <th>2</th>\n",
       "      <td>2023-03-01</td>\n",
       "      <td>45</td>\n",
       "      <td>47</td>\n",
       "      <td>2720.0</td>\n",
       "    </tr>\n",
       "    <tr>\n",
       "      <th>3</th>\n",
       "      <td>2023-03-01</td>\n",
       "      <td>47</td>\n",
       "      <td>45</td>\n",
       "      <td>2580.0</td>\n",
       "    </tr>\n",
       "    <tr>\n",
       "      <th>4</th>\n",
       "      <td>2023-03-01</td>\n",
       "      <td>46</td>\n",
       "      <td>9</td>\n",
       "      <td>4185.0</td>\n",
       "    </tr>\n",
       "  </tbody>\n",
       "</table>\n",
       "</div>"
      ],
      "text/plain": [
       "          doj  srcid  destid  final_seatcount\n",
       "0  2023-03-01     45      46           2838.0\n",
       "1  2023-03-01     46      45           2298.0\n",
       "2  2023-03-01     45      47           2720.0\n",
       "3  2023-03-01     47      45           2580.0\n",
       "4  2023-03-01     46       9           4185.0"
      ]
     },
     "execution_count": 6,
     "metadata": {},
     "output_type": "execute_result"
    }
   ],
   "source": [
    "df_train.head()"
   ]
  },
  {
   "cell_type": "code",
   "execution_count": 7,
   "id": "dca88fa8",
   "metadata": {},
   "outputs": [
    {
     "data": {
      "text/plain": [
       "doj                0\n",
       "srcid              0\n",
       "destid             0\n",
       "final_seatcount    0\n",
       "dtype: int64"
      ]
     },
     "execution_count": 7,
     "metadata": {},
     "output_type": "execute_result"
    }
   ],
   "source": [
    "df_train.isnull().sum()"
   ]
  },
  {
   "cell_type": "code",
   "execution_count": 10,
   "id": "be8d38c4",
   "metadata": {},
   "outputs": [
    {
     "data": {
      "text/plain": [
       "(67200, 4)"
      ]
     },
     "execution_count": 10,
     "metadata": {},
     "output_type": "execute_result"
    }
   ],
   "source": [
    "df_train.shape"
   ]
  },
  {
   "cell_type": "code",
   "execution_count": 20,
   "id": "b3dd2c69",
   "metadata": {},
   "outputs": [
    {
     "data": {
      "text/html": [
       "<div>\n",
       "<style scoped>\n",
       "    .dataframe tbody tr th:only-of-type {\n",
       "        vertical-align: middle;\n",
       "    }\n",
       "\n",
       "    .dataframe tbody tr th {\n",
       "        vertical-align: top;\n",
       "    }\n",
       "\n",
       "    .dataframe thead th {\n",
       "        text-align: right;\n",
       "    }\n",
       "</style>\n",
       "<table border=\"1\" class=\"dataframe\">\n",
       "  <thead>\n",
       "    <tr style=\"text-align: right;\">\n",
       "      <th></th>\n",
       "      <th>srcid</th>\n",
       "      <th>destid</th>\n",
       "      <th>final_seatcount</th>\n",
       "    </tr>\n",
       "  </thead>\n",
       "  <tbody>\n",
       "    <tr>\n",
       "      <th>count</th>\n",
       "      <td>67200.000000</td>\n",
       "      <td>67200.000000</td>\n",
       "      <td>67200.000000</td>\n",
       "    </tr>\n",
       "    <tr>\n",
       "      <th>mean</th>\n",
       "      <td>29.550000</td>\n",
       "      <td>29.750000</td>\n",
       "      <td>2001.729464</td>\n",
       "    </tr>\n",
       "    <tr>\n",
       "      <th>std</th>\n",
       "      <td>16.670082</td>\n",
       "      <td>15.938986</td>\n",
       "      <td>1194.711140</td>\n",
       "    </tr>\n",
       "    <tr>\n",
       "      <th>min</th>\n",
       "      <td>1.000000</td>\n",
       "      <td>1.000000</td>\n",
       "      <td>2.000000</td>\n",
       "    </tr>\n",
       "    <tr>\n",
       "      <th>25%</th>\n",
       "      <td>14.750000</td>\n",
       "      <td>15.750000</td>\n",
       "      <td>1252.000000</td>\n",
       "    </tr>\n",
       "    <tr>\n",
       "      <th>50%</th>\n",
       "      <td>36.000000</td>\n",
       "      <td>34.500000</td>\n",
       "      <td>1685.000000</td>\n",
       "    </tr>\n",
       "    <tr>\n",
       "      <th>75%</th>\n",
       "      <td>45.000000</td>\n",
       "      <td>45.000000</td>\n",
       "      <td>2408.000000</td>\n",
       "    </tr>\n",
       "    <tr>\n",
       "      <th>max</th>\n",
       "      <td>48.000000</td>\n",
       "      <td>48.000000</td>\n",
       "      <td>13503.000000</td>\n",
       "    </tr>\n",
       "  </tbody>\n",
       "</table>\n",
       "</div>"
      ],
      "text/plain": [
       "              srcid        destid  final_seatcount\n",
       "count  67200.000000  67200.000000     67200.000000\n",
       "mean      29.550000     29.750000      2001.729464\n",
       "std       16.670082     15.938986      1194.711140\n",
       "min        1.000000      1.000000         2.000000\n",
       "25%       14.750000     15.750000      1252.000000\n",
       "50%       36.000000     34.500000      1685.000000\n",
       "75%       45.000000     45.000000      2408.000000\n",
       "max       48.000000     48.000000     13503.000000"
      ]
     },
     "execution_count": 20,
     "metadata": {},
     "output_type": "execute_result"
    }
   ],
   "source": [
    "df_train.describe()"
   ]
  },
  {
   "cell_type": "code",
   "execution_count": 8,
   "id": "4befe78c",
   "metadata": {},
   "outputs": [
    {
     "data": {
      "text/html": [
       "<div>\n",
       "<style scoped>\n",
       "    .dataframe tbody tr th:only-of-type {\n",
       "        vertical-align: middle;\n",
       "    }\n",
       "\n",
       "    .dataframe tbody tr th {\n",
       "        vertical-align: top;\n",
       "    }\n",
       "\n",
       "    .dataframe thead th {\n",
       "        text-align: right;\n",
       "    }\n",
       "</style>\n",
       "<table border=\"1\" class=\"dataframe\">\n",
       "  <thead>\n",
       "    <tr style=\"text-align: right;\">\n",
       "      <th></th>\n",
       "      <th>doj</th>\n",
       "      <th>doi</th>\n",
       "      <th>srcid</th>\n",
       "      <th>destid</th>\n",
       "      <th>srcid_region</th>\n",
       "      <th>destid_region</th>\n",
       "      <th>srcid_tier</th>\n",
       "      <th>destid_tier</th>\n",
       "      <th>cumsum_seatcount</th>\n",
       "      <th>cumsum_searchcount</th>\n",
       "      <th>dbd</th>\n",
       "    </tr>\n",
       "  </thead>\n",
       "  <tbody>\n",
       "    <tr>\n",
       "      <th>0</th>\n",
       "      <td>2023-03-01</td>\n",
       "      <td>2023-01-30</td>\n",
       "      <td>45</td>\n",
       "      <td>46</td>\n",
       "      <td>Karnataka</td>\n",
       "      <td>Tamil Nadu</td>\n",
       "      <td>Tier 1</td>\n",
       "      <td>Tier 1</td>\n",
       "      <td>8.0</td>\n",
       "      <td>76.0</td>\n",
       "      <td>30</td>\n",
       "    </tr>\n",
       "    <tr>\n",
       "      <th>1</th>\n",
       "      <td>2023-03-01</td>\n",
       "      <td>2023-01-30</td>\n",
       "      <td>46</td>\n",
       "      <td>45</td>\n",
       "      <td>Tamil Nadu</td>\n",
       "      <td>Karnataka</td>\n",
       "      <td>Tier 1</td>\n",
       "      <td>Tier 1</td>\n",
       "      <td>8.0</td>\n",
       "      <td>70.0</td>\n",
       "      <td>30</td>\n",
       "    </tr>\n",
       "    <tr>\n",
       "      <th>2</th>\n",
       "      <td>2023-03-01</td>\n",
       "      <td>2023-01-30</td>\n",
       "      <td>45</td>\n",
       "      <td>47</td>\n",
       "      <td>Karnataka</td>\n",
       "      <td>Andhra Pradesh</td>\n",
       "      <td>Tier 1</td>\n",
       "      <td>Tier 1</td>\n",
       "      <td>4.0</td>\n",
       "      <td>142.0</td>\n",
       "      <td>30</td>\n",
       "    </tr>\n",
       "    <tr>\n",
       "      <th>3</th>\n",
       "      <td>2023-03-01</td>\n",
       "      <td>2023-01-30</td>\n",
       "      <td>47</td>\n",
       "      <td>45</td>\n",
       "      <td>Andhra Pradesh</td>\n",
       "      <td>Karnataka</td>\n",
       "      <td>Tier 1</td>\n",
       "      <td>Tier 1</td>\n",
       "      <td>0.0</td>\n",
       "      <td>68.0</td>\n",
       "      <td>30</td>\n",
       "    </tr>\n",
       "    <tr>\n",
       "      <th>4</th>\n",
       "      <td>2023-03-01</td>\n",
       "      <td>2023-01-30</td>\n",
       "      <td>46</td>\n",
       "      <td>9</td>\n",
       "      <td>Tamil Nadu</td>\n",
       "      <td>Tamil Nadu</td>\n",
       "      <td>Tier 1</td>\n",
       "      <td>Tier2</td>\n",
       "      <td>9.0</td>\n",
       "      <td>162.0</td>\n",
       "      <td>30</td>\n",
       "    </tr>\n",
       "  </tbody>\n",
       "</table>\n",
       "</div>"
      ],
      "text/plain": [
       "          doj         doi  srcid  destid    srcid_region   destid_region  \\\n",
       "0  2023-03-01  2023-01-30     45      46       Karnataka      Tamil Nadu   \n",
       "1  2023-03-01  2023-01-30     46      45      Tamil Nadu       Karnataka   \n",
       "2  2023-03-01  2023-01-30     45      47       Karnataka  Andhra Pradesh   \n",
       "3  2023-03-01  2023-01-30     47      45  Andhra Pradesh       Karnataka   \n",
       "4  2023-03-01  2023-01-30     46       9      Tamil Nadu      Tamil Nadu   \n",
       "\n",
       "  srcid_tier destid_tier  cumsum_seatcount  cumsum_searchcount  dbd  \n",
       "0     Tier 1      Tier 1               8.0                76.0   30  \n",
       "1     Tier 1      Tier 1               8.0                70.0   30  \n",
       "2     Tier 1      Tier 1               4.0               142.0   30  \n",
       "3     Tier 1      Tier 1               0.0                68.0   30  \n",
       "4     Tier 1       Tier2               9.0               162.0   30  "
      ]
     },
     "execution_count": 8,
     "metadata": {},
     "output_type": "execute_result"
    }
   ],
   "source": [
    "df_transactions.head()"
   ]
  },
  {
   "cell_type": "code",
   "execution_count": 9,
   "id": "84659b0a",
   "metadata": {},
   "outputs": [
    {
     "data": {
      "text/plain": [
       "doj                   0\n",
       "doi                   0\n",
       "srcid                 0\n",
       "destid                0\n",
       "srcid_region          0\n",
       "destid_region         0\n",
       "srcid_tier            0\n",
       "destid_tier           0\n",
       "cumsum_seatcount      0\n",
       "cumsum_searchcount    0\n",
       "dbd                   0\n",
       "dtype: int64"
      ]
     },
     "execution_count": 9,
     "metadata": {},
     "output_type": "execute_result"
    }
   ],
   "source": [
    "df_transactions.isnull().sum()"
   ]
  },
  {
   "cell_type": "code",
   "execution_count": 11,
   "id": "0b9bcdc3",
   "metadata": {},
   "outputs": [
    {
     "data": {
      "text/plain": [
       "(2266100, 11)"
      ]
     },
     "execution_count": 11,
     "metadata": {},
     "output_type": "execute_result"
    }
   ],
   "source": [
    "df_transactions.shape"
   ]
  },
  {
   "cell_type": "code",
   "execution_count": 14,
   "id": "6733d73f",
   "metadata": {},
   "outputs": [
    {
     "data": {
      "text/html": [
       "<div>\n",
       "<style scoped>\n",
       "    .dataframe tbody tr th:only-of-type {\n",
       "        vertical-align: middle;\n",
       "    }\n",
       "\n",
       "    .dataframe tbody tr th {\n",
       "        vertical-align: top;\n",
       "    }\n",
       "\n",
       "    .dataframe thead th {\n",
       "        text-align: right;\n",
       "    }\n",
       "</style>\n",
       "<table border=\"1\" class=\"dataframe\">\n",
       "  <thead>\n",
       "    <tr style=\"text-align: right;\">\n",
       "      <th></th>\n",
       "      <th>route_key</th>\n",
       "      <th>doj</th>\n",
       "      <th>srcid</th>\n",
       "      <th>destid</th>\n",
       "    </tr>\n",
       "  </thead>\n",
       "  <tbody>\n",
       "    <tr>\n",
       "      <th>0</th>\n",
       "      <td>2025-02-11_46_45</td>\n",
       "      <td>2025-02-11</td>\n",
       "      <td>46</td>\n",
       "      <td>45</td>\n",
       "    </tr>\n",
       "    <tr>\n",
       "      <th>1</th>\n",
       "      <td>2025-01-20_17_23</td>\n",
       "      <td>2025-01-20</td>\n",
       "      <td>17</td>\n",
       "      <td>23</td>\n",
       "    </tr>\n",
       "    <tr>\n",
       "      <th>2</th>\n",
       "      <td>2025-01-08_02_14</td>\n",
       "      <td>2025-01-08</td>\n",
       "      <td>2</td>\n",
       "      <td>14</td>\n",
       "    </tr>\n",
       "    <tr>\n",
       "      <th>3</th>\n",
       "      <td>2025-01-08_08_47</td>\n",
       "      <td>2025-01-08</td>\n",
       "      <td>8</td>\n",
       "      <td>47</td>\n",
       "    </tr>\n",
       "    <tr>\n",
       "      <th>4</th>\n",
       "      <td>2025-01-08_09_46</td>\n",
       "      <td>2025-01-08</td>\n",
       "      <td>9</td>\n",
       "      <td>46</td>\n",
       "    </tr>\n",
       "  </tbody>\n",
       "</table>\n",
       "</div>"
      ],
      "text/plain": [
       "          route_key         doj  srcid  destid\n",
       "0  2025-02-11_46_45  2025-02-11     46      45\n",
       "1  2025-01-20_17_23  2025-01-20     17      23\n",
       "2  2025-01-08_02_14  2025-01-08      2      14\n",
       "3  2025-01-08_08_47  2025-01-08      8      47\n",
       "4  2025-01-08_09_46  2025-01-08      9      46"
      ]
     },
     "execution_count": 14,
     "metadata": {},
     "output_type": "execute_result"
    }
   ],
   "source": [
    "df_test.head()"
   ]
  },
  {
   "cell_type": "code",
   "execution_count": 15,
   "id": "b66ec578",
   "metadata": {},
   "outputs": [
    {
     "data": {
      "text/plain": [
       "route_key    0\n",
       "doj          0\n",
       "srcid        0\n",
       "destid       0\n",
       "dtype: int64"
      ]
     },
     "execution_count": 15,
     "metadata": {},
     "output_type": "execute_result"
    }
   ],
   "source": [
    "df_test.isnull().sum()"
   ]
  },
  {
   "cell_type": "code",
   "execution_count": 16,
   "id": "bfb1b243",
   "metadata": {},
   "outputs": [
    {
     "data": {
      "text/plain": [
       "(5900, 4)"
      ]
     },
     "execution_count": 16,
     "metadata": {},
     "output_type": "execute_result"
    }
   ],
   "source": [
    "df_test.shape"
   ]
  },
  {
   "cell_type": "code",
   "execution_count": 18,
   "id": "9b12845c",
   "metadata": {},
   "outputs": [
    {
     "data": {
      "text/html": [
       "<div>\n",
       "<style scoped>\n",
       "    .dataframe tbody tr th:only-of-type {\n",
       "        vertical-align: middle;\n",
       "    }\n",
       "\n",
       "    .dataframe tbody tr th {\n",
       "        vertical-align: top;\n",
       "    }\n",
       "\n",
       "    .dataframe thead th {\n",
       "        text-align: right;\n",
       "    }\n",
       "</style>\n",
       "<table border=\"1\" class=\"dataframe\">\n",
       "  <thead>\n",
       "    <tr style=\"text-align: right;\">\n",
       "      <th></th>\n",
       "      <th>route_key</th>\n",
       "      <th>final_seatcount</th>\n",
       "    </tr>\n",
       "  </thead>\n",
       "  <tbody>\n",
       "    <tr>\n",
       "      <th>0</th>\n",
       "      <td>2025-02-11_46_45</td>\n",
       "      <td>0</td>\n",
       "    </tr>\n",
       "    <tr>\n",
       "      <th>1</th>\n",
       "      <td>2025-01-20_17_23</td>\n",
       "      <td>0</td>\n",
       "    </tr>\n",
       "    <tr>\n",
       "      <th>2</th>\n",
       "      <td>2025-01-08_02_14</td>\n",
       "      <td>0</td>\n",
       "    </tr>\n",
       "    <tr>\n",
       "      <th>3</th>\n",
       "      <td>2025-01-08_08_47</td>\n",
       "      <td>0</td>\n",
       "    </tr>\n",
       "    <tr>\n",
       "      <th>4</th>\n",
       "      <td>2025-01-08_09_46</td>\n",
       "      <td>0</td>\n",
       "    </tr>\n",
       "  </tbody>\n",
       "</table>\n",
       "</div>"
      ],
      "text/plain": [
       "          route_key  final_seatcount\n",
       "0  2025-02-11_46_45                0\n",
       "1  2025-01-20_17_23                0\n",
       "2  2025-01-08_02_14                0\n",
       "3  2025-01-08_08_47                0\n",
       "4  2025-01-08_09_46                0"
      ]
     },
     "execution_count": 18,
     "metadata": {},
     "output_type": "execute_result"
    }
   ],
   "source": [
    "df_submission.head()"
   ]
  },
  {
   "cell_type": "code",
   "execution_count": null,
   "id": "c99d3d84",
   "metadata": {},
   "outputs": [],
   "source": []
  }
 ],
 "metadata": {
  "kernelspec": {
   "display_name": "venv",
   "language": "python",
   "name": "python3"
  },
  "language_info": {
   "codemirror_mode": {
    "name": "ipython",
    "version": 3
   },
   "file_extension": ".py",
   "mimetype": "text/x-python",
   "name": "python",
   "nbconvert_exporter": "python",
   "pygments_lexer": "ipython3",
   "version": "3.9.6"
  }
 },
 "nbformat": 4,
 "nbformat_minor": 5
}
